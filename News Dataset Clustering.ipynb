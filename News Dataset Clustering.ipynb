{
 "cells": [
  {
   "cell_type": "markdown",
   "id": "7ebd5495",
   "metadata": {
    "pycharm": {
     "name": "#%% md\n"
    }
   },
   "source": [
    "# Text Clustering on News Dataset\n",
    "\n",
    "[Dataset on kaggle](https://www.kaggle.com/datasets/narendrageek/reuters21578-multilabel-classification-news)\n",
    "\n",
    "## Contents\n",
    "* Data cleaning\n",
    "* Data preprocessing\n",
    "* Kernel PCA\n",
    "* K-Means clustering\n",
    "* Silhouette score"
   ]
  },
  {
   "cell_type": "code",
   "execution_count": 150,
   "id": "0266b717",
   "metadata": {
    "pycharm": {
     "name": "#%%\n"
    }
   },
   "outputs": [],
   "source": [
    "import numpy as np \n",
    "import pandas as pd\n",
    "import matplotlib.pyplot as plt\n",
    "import nltk\n",
    "from nltk.corpus import stopwords\n",
    "from nltk.tokenize import word_tokenize\n",
    "import string\n",
    "from sklearn.preprocessing import LabelEncoder\n",
    "from sklearn.feature_extraction.text import TfidfVectorizer\n",
    "from sklearn.model_selection import train_test_split\n",
    "from sklearn import metrics\n",
    "from sklearn.cluster import KMeans\n",
    "from sklearn.decomposition import KernelPCA"
   ]
  },
  {
   "cell_type": "markdown",
   "id": "67d55128",
   "metadata": {
    "pycharm": {
     "name": "#%% md\n"
    }
   },
   "source": [
    "Importing news dataset"
   ]
  },
  {
   "cell_type": "code",
   "execution_count": 151,
   "id": "9624a074",
   "metadata": {
    "pycharm": {
     "name": "#%%\n"
    }
   },
   "outputs": [],
   "source": [
    "data = pd.read_csv('reuters21578_news.csv')"
   ]
  },
  {
   "cell_type": "code",
   "execution_count": 152,
   "id": "f5c077b5",
   "metadata": {
    "pycharm": {
     "name": "#%%\n"
    }
   },
   "outputs": [
    {
     "data": {
      "text/html": [
       "<div>\n",
       "<style scoped>\n",
       "    .dataframe tbody tr th:only-of-type {\n",
       "        vertical-align: middle;\n",
       "    }\n",
       "\n",
       "    .dataframe tbody tr th {\n",
       "        vertical-align: top;\n",
       "    }\n",
       "\n",
       "    .dataframe thead th {\n",
       "        text-align: right;\n",
       "    }\n",
       "</style>\n",
       "<table border=\"1\" class=\"dataframe\">\n",
       "  <thead>\n",
       "    <tr style=\"text-align: right;\">\n",
       "      <th></th>\n",
       "      <th>Unnamed: 0</th>\n",
       "      <th>newID</th>\n",
       "      <th>oldID</th>\n",
       "      <th>title</th>\n",
       "      <th>author</th>\n",
       "      <th>data_split</th>\n",
       "      <th>isTopicsAvailable</th>\n",
       "      <th>document_date</th>\n",
       "      <th>dateline</th>\n",
       "      <th>people</th>\n",
       "      <th>places</th>\n",
       "      <th>orgs</th>\n",
       "      <th>exchanges</th>\n",
       "      <th>topic_body</th>\n",
       "      <th>topics</th>\n",
       "    </tr>\n",
       "  </thead>\n",
       "  <tbody>\n",
       "    <tr>\n",
       "      <th>0</th>\n",
       "      <td>0</td>\n",
       "      <td>1</td>\n",
       "      <td>5544</td>\n",
       "      <td>BAHIA COCOA REVIEW</td>\n",
       "      <td>NaN</td>\n",
       "      <td>TRAIN</td>\n",
       "      <td>YES</td>\n",
       "      <td>26-FEB-1987 15:01:01.79</td>\n",
       "      <td>SALVADOR, Feb 26 -</td>\n",
       "      <td>[]</td>\n",
       "      <td>['el-salvador', 'usa', 'uruguay']</td>\n",
       "      <td>[]</td>\n",
       "      <td>[]</td>\n",
       "      <td>Showers continued throughout the week in\\nthe ...</td>\n",
       "      <td>['cocoa']</td>\n",
       "    </tr>\n",
       "    <tr>\n",
       "      <th>1</th>\n",
       "      <td>1</td>\n",
       "      <td>2</td>\n",
       "      <td>5545</td>\n",
       "      <td>STANDARD OIL &lt;SRD&gt; TO FORM FINANCIAL UNIT</td>\n",
       "      <td>NaN</td>\n",
       "      <td>TRAIN</td>\n",
       "      <td>NO</td>\n",
       "      <td>26-FEB-1987 15:02:20.00</td>\n",
       "      <td>CLEVELAND, Feb 26 -</td>\n",
       "      <td>[]</td>\n",
       "      <td>['usa']</td>\n",
       "      <td>[]</td>\n",
       "      <td>[]</td>\n",
       "      <td>Standard Oil Co and BP North America\\nInc said...</td>\n",
       "      <td>NaN</td>\n",
       "    </tr>\n",
       "    <tr>\n",
       "      <th>2</th>\n",
       "      <td>2</td>\n",
       "      <td>3</td>\n",
       "      <td>5546</td>\n",
       "      <td>TEXAS COMMERCE BANCSHARES &lt;TCB&gt; FILES PLAN</td>\n",
       "      <td>NaN</td>\n",
       "      <td>TRAIN</td>\n",
       "      <td>NO</td>\n",
       "      <td>26-FEB-1987 15:03:27.51</td>\n",
       "      <td>HOUSTON, Feb 26 -</td>\n",
       "      <td>[]</td>\n",
       "      <td>['usa']</td>\n",
       "      <td>[]</td>\n",
       "      <td>[]</td>\n",
       "      <td>Texas Commerce Bancshares Inc's Texas\\nCommerc...</td>\n",
       "      <td>NaN</td>\n",
       "    </tr>\n",
       "  </tbody>\n",
       "</table>\n",
       "</div>"
      ],
      "text/plain": [
       "   Unnamed: 0  newID  oldID                                       title  \\\n",
       "0           0      1   5544                          BAHIA COCOA REVIEW   \n",
       "1           1      2   5545   STANDARD OIL <SRD> TO FORM FINANCIAL UNIT   \n",
       "2           2      3   5546  TEXAS COMMERCE BANCSHARES <TCB> FILES PLAN   \n",
       "\n",
       "  author data_split isTopicsAvailable            document_date  \\\n",
       "0    NaN      TRAIN               YES  26-FEB-1987 15:01:01.79   \n",
       "1    NaN      TRAIN                NO  26-FEB-1987 15:02:20.00   \n",
       "2    NaN      TRAIN                NO  26-FEB-1987 15:03:27.51   \n",
       "\n",
       "                   dateline people                             places orgs  \\\n",
       "0       SALVADOR, Feb 26 -      []  ['el-salvador', 'usa', 'uruguay']   []   \n",
       "1      CLEVELAND, Feb 26 -      []                            ['usa']   []   \n",
       "2        HOUSTON, Feb 26 -      []                            ['usa']   []   \n",
       "\n",
       "  exchanges                                         topic_body     topics  \n",
       "0        []  Showers continued throughout the week in\\nthe ...  ['cocoa']  \n",
       "1        []  Standard Oil Co and BP North America\\nInc said...        NaN  \n",
       "2        []  Texas Commerce Bancshares Inc's Texas\\nCommerc...        NaN  "
      ]
     },
     "execution_count": 152,
     "metadata": {},
     "output_type": "execute_result"
    }
   ],
   "source": [
    "data.head(3)"
   ]
  },
  {
   "cell_type": "code",
   "execution_count": 153,
   "id": "b441067b",
   "metadata": {
    "pycharm": {
     "name": "#%%\n"
    }
   },
   "outputs": [
    {
     "data": {
      "text/plain": [
       "(21578, 15)"
      ]
     },
     "execution_count": 153,
     "metadata": {},
     "output_type": "execute_result"
    }
   ],
   "source": [
    "data.shape"
   ]
  },
  {
   "cell_type": "markdown",
   "id": "a9b24fb1",
   "metadata": {
    "pycharm": {
     "name": "#%% md\n"
    }
   },
   "source": [
    "### Data Cleaning\n",
    "* Column selection\n",
    "* Null values\n",
    "* Duplicate values"
   ]
  },
  {
   "cell_type": "code",
   "execution_count": 154,
   "id": "083a5837",
   "metadata": {
    "pycharm": {
     "name": "#%%\n"
    }
   },
   "outputs": [
    {
     "data": {
      "text/plain": [
       "Index(['Unnamed: 0', 'newID', 'oldID', 'title', 'author', 'data_split',\n",
       "       'isTopicsAvailable', 'document_date', 'dateline', 'people', 'places',\n",
       "       'orgs', 'exchanges', 'topic_body', 'topics'],\n",
       "      dtype='object')"
      ]
     },
     "execution_count": 154,
     "metadata": {},
     "output_type": "execute_result"
    }
   ],
   "source": [
    "data.columns"
   ]
  },
  {
   "cell_type": "code",
   "execution_count": 155,
   "id": "e1869fd7",
   "metadata": {
    "pycharm": {
     "name": "#%%\n"
    }
   },
   "outputs": [],
   "source": [
    "data = data[['topic_body', 'topics']]"
   ]
  },
  {
   "cell_type": "markdown",
   "id": "1dc381eb",
   "metadata": {
    "pycharm": {
     "name": "#%% md\n"
    }
   },
   "source": [
    "Null values"
   ]
  },
  {
   "cell_type": "code",
   "execution_count": 156,
   "id": "c9ebceaa",
   "metadata": {
    "pycharm": {
     "name": "#%%\n"
    }
   },
   "outputs": [
    {
     "data": {
      "text/plain": [
       "topic_body     2535\n",
       "topics        10211\n",
       "dtype: int64"
      ]
     },
     "execution_count": 156,
     "metadata": {},
     "output_type": "execute_result"
    }
   ],
   "source": [
    "data.isna().sum()"
   ]
  },
  {
   "cell_type": "code",
   "execution_count": 157,
   "id": "b4418223",
   "metadata": {
    "pycharm": {
     "name": "#%%\n"
    }
   },
   "outputs": [],
   "source": [
    "data.dropna(inplace=True)"
   ]
  },
  {
   "cell_type": "markdown",
   "id": "1b13d770",
   "metadata": {
    "pycharm": {
     "name": "#%% md\n"
    }
   },
   "source": [
    "Duplicate values"
   ]
  },
  {
   "cell_type": "code",
   "execution_count": 158,
   "id": "1a57c46f",
   "metadata": {
    "pycharm": {
     "name": "#%%\n"
    }
   },
   "outputs": [
    {
     "data": {
      "text/plain": [
       "101"
      ]
     },
     "execution_count": 158,
     "metadata": {},
     "output_type": "execute_result"
    }
   ],
   "source": [
    "data.duplicated().sum()"
   ]
  },
  {
   "cell_type": "code",
   "execution_count": 159,
   "id": "7e01da39",
   "metadata": {
    "pycharm": {
     "name": "#%%\n"
    }
   },
   "outputs": [],
   "source": [
    "data.drop_duplicates(inplace=True)\n",
    "data = data.reset_index(drop=True)"
   ]
  },
  {
   "cell_type": "markdown",
   "id": "9890e9d5",
   "metadata": {
    "pycharm": {
     "name": "#%% md\n"
    }
   },
   "source": [
    "Cleaning topics column"
   ]
  },
  {
   "cell_type": "code",
   "execution_count": 160,
   "id": "ae5f034a",
   "metadata": {
    "pycharm": {
     "name": "#%%\n"
    }
   },
   "outputs": [],
   "source": [
    "data['topics'] = data['topics'].replace('[\\',]', '', regex=True)\n",
    "\n",
    "for i in range(len(data)):\n",
    "    x = data['topics'][i]\n",
    "    x = x[1:len(x)-1]\n",
    "    l = x.split()\n",
    "    data['topics'][i] = l[0]"
   ]
  },
  {
   "cell_type": "code",
   "execution_count": 161,
   "id": "9d017499",
   "metadata": {
    "pycharm": {
     "name": "#%%\n"
    }
   },
   "outputs": [
    {
     "data": {
      "text/plain": [
       "(10276, 2)"
      ]
     },
     "execution_count": 161,
     "metadata": {},
     "output_type": "execute_result"
    }
   ],
   "source": [
    "data.shape"
   ]
  },
  {
   "cell_type": "code",
   "execution_count": 162,
   "id": "f2f3a687",
   "metadata": {
    "pycharm": {
     "name": "#%%\n"
    }
   },
   "outputs": [
    {
     "data": {
      "text/html": [
       "<div>\n",
       "<style scoped>\n",
       "    .dataframe tbody tr th:only-of-type {\n",
       "        vertical-align: middle;\n",
       "    }\n",
       "\n",
       "    .dataframe tbody tr th {\n",
       "        vertical-align: top;\n",
       "    }\n",
       "\n",
       "    .dataframe thead th {\n",
       "        text-align: right;\n",
       "    }\n",
       "</style>\n",
       "<table border=\"1\" class=\"dataframe\">\n",
       "  <thead>\n",
       "    <tr style=\"text-align: right;\">\n",
       "      <th></th>\n",
       "      <th>topic_body</th>\n",
       "      <th>topics</th>\n",
       "    </tr>\n",
       "  </thead>\n",
       "  <tbody>\n",
       "    <tr>\n",
       "      <th>0</th>\n",
       "      <td>Showers continued throughout the week in\\nthe ...</td>\n",
       "      <td>cocoa</td>\n",
       "    </tr>\n",
       "    <tr>\n",
       "      <th>1</th>\n",
       "      <td>The U.S. Agriculture Department\\nreported the ...</td>\n",
       "      <td>grain</td>\n",
       "    </tr>\n",
       "    <tr>\n",
       "      <th>2</th>\n",
       "      <td>Argentine grain board figures show\\ncrop regis...</td>\n",
       "      <td>veg-oil</td>\n",
       "    </tr>\n",
       "  </tbody>\n",
       "</table>\n",
       "</div>"
      ],
      "text/plain": [
       "                                          topic_body   topics\n",
       "0  Showers continued throughout the week in\\nthe ...    cocoa\n",
       "1  The U.S. Agriculture Department\\nreported the ...    grain\n",
       "2  Argentine grain board figures show\\ncrop regis...  veg-oil"
      ]
     },
     "execution_count": 162,
     "metadata": {},
     "output_type": "execute_result"
    }
   ],
   "source": [
    "data.head(3)"
   ]
  },
  {
   "cell_type": "markdown",
   "id": "75b49a5c",
   "metadata": {
    "pycharm": {
     "name": "#%% md\n"
    }
   },
   "source": [
    "### Data Preprocessing\n",
    "* Lowercasing and removing newline, tabular spaces, numbers and punctuations\n",
    "* Stopwords removal\n",
    "* Lemmatization\n",
    "* Label encoding\n",
    "* TF-IDF vectorization \n"
   ]
  },
  {
   "cell_type": "markdown",
   "id": "2a5dbc1c",
   "metadata": {
    "pycharm": {
     "name": "#%% md\n"
    }
   },
   "source": [
    "Lowercasing and removing newline, tabular spaces, numbers and punctuations"
   ]
  },
  {
   "cell_type": "code",
   "execution_count": 163,
   "id": "62134655",
   "metadata": {
    "pycharm": {
     "name": "#%%\n"
    }
   },
   "outputs": [],
   "source": [
    "data['topic_body']= data['topic_body'].str.lower()"
   ]
  },
  {
   "cell_type": "code",
   "execution_count": 164,
   "id": "18224446",
   "metadata": {
    "pycharm": {
     "name": "#%%\n"
    }
   },
   "outputs": [],
   "source": [
    "data['topic_body'] = data['topic_body'].replace('[\\n\\t\\'0-9]', '', regex=True)"
   ]
  },
  {
   "cell_type": "code",
   "execution_count": 170,
   "id": "c4294bdb",
   "metadata": {
    "pycharm": {
     "name": "#%%\n"
    }
   },
   "outputs": [],
   "source": [
    "data['topic_body'] = data['topic_body'].replace('[!\"#$%&\\'()*+,-./:;<=>?@[\\\\]^_`{|}~]', ' ', regex=True)"
   ]
  },
  {
   "cell_type": "markdown",
   "id": "8f08825a",
   "metadata": {
    "pycharm": {
     "name": "#%% md\n"
    }
   },
   "source": [
    "Stopwords removal"
   ]
  },
  {
   "cell_type": "code",
   "execution_count": 171,
   "id": "96d2235a",
   "metadata": {
    "pycharm": {
     "name": "#%%\n"
    }
   },
   "outputs": [],
   "source": [
    "stopwords = stopwords.words('english')"
   ]
  },
  {
   "cell_type": "code",
   "execution_count": 172,
   "id": "1ad07a39",
   "metadata": {
    "pycharm": {
     "name": "#%%\n"
    }
   },
   "outputs": [],
   "source": [
    "def remove_stopwords(text): \n",
    "    word_tokens = word_tokenize(text)\n",
    "    filtered_sentence = [w for w in word_tokens if not w.lower() in stopwords]\n",
    "    filtered_sentence = []\n",
    "    for w in word_tokens:\n",
    "        if w not in stopwords:\n",
    "            filtered_sentence.append(w)\n",
    "    return \" \".join(filtered_sentence)"
   ]
  },
  {
   "cell_type": "code",
   "execution_count": 173,
   "id": "9d482121",
   "metadata": {
    "pycharm": {
     "name": "#%%\n"
    }
   },
   "outputs": [],
   "source": [
    "data['topic_body'] = data['topic_body'].apply(remove_stopwords)"
   ]
  },
  {
   "cell_type": "markdown",
   "id": "903a0cc8",
   "metadata": {
    "pycharm": {
     "name": "#%% md\n"
    }
   },
   "source": [
    "Lemmatization"
   ]
  },
  {
   "cell_type": "code",
   "execution_count": 174,
   "id": "ddddd8d4",
   "metadata": {
    "pycharm": {
     "name": "#%%\n"
    }
   },
   "outputs": [],
   "source": [
    "lemmatizer = nltk.stem.WordNetLemmatizer()"
   ]
  },
  {
   "cell_type": "code",
   "execution_count": 175,
   "id": "816dcd9a",
   "metadata": {
    "pycharm": {
     "name": "#%%\n"
    }
   },
   "outputs": [],
   "source": [
    "def lemmatize(text):\n",
    "    return \" \".join([lemmatizer.lemmatize(w) for w in word_tokenize(text)])"
   ]
  },
  {
   "cell_type": "code",
   "execution_count": 176,
   "id": "7cfa8a76",
   "metadata": {
    "pycharm": {
     "name": "#%%\n"
    }
   },
   "outputs": [],
   "source": [
    "data['topic_body'] = data['topic_body'].apply(lemmatize)"
   ]
  },
  {
   "cell_type": "code",
   "execution_count": 177,
   "id": "b049f2be",
   "metadata": {
    "pycharm": {
     "name": "#%%\n"
    }
   },
   "outputs": [
    {
     "data": {
      "text/html": [
       "<div>\n",
       "<style scoped>\n",
       "    .dataframe tbody tr th:only-of-type {\n",
       "        vertical-align: middle;\n",
       "    }\n",
       "\n",
       "    .dataframe tbody tr th {\n",
       "        vertical-align: top;\n",
       "    }\n",
       "\n",
       "    .dataframe thead th {\n",
       "        text-align: right;\n",
       "    }\n",
       "</style>\n",
       "<table border=\"1\" class=\"dataframe\">\n",
       "  <thead>\n",
       "    <tr style=\"text-align: right;\">\n",
       "      <th></th>\n",
       "      <th>topic_body</th>\n",
       "      <th>topics</th>\n",
       "    </tr>\n",
       "  </thead>\n",
       "  <tbody>\n",
       "    <tr>\n",
       "      <th>0</th>\n",
       "      <td>shower continued throughout week inthe bahia c...</td>\n",
       "      <td>cocoa</td>\n",
       "    </tr>\n",
       "    <tr>\n",
       "      <th>1</th>\n",
       "      <td>u agriculture departmentreported farmer owned ...</td>\n",
       "      <td>grain</td>\n",
       "    </tr>\n",
       "    <tr>\n",
       "      <th>2</th>\n",
       "      <td>argentine grain board figure showcrop registra...</td>\n",
       "      <td>veg-oil</td>\n",
       "    </tr>\n",
       "  </tbody>\n",
       "</table>\n",
       "</div>"
      ],
      "text/plain": [
       "                                          topic_body   topics\n",
       "0  shower continued throughout week inthe bahia c...    cocoa\n",
       "1  u agriculture departmentreported farmer owned ...    grain\n",
       "2  argentine grain board figure showcrop registra...  veg-oil"
      ]
     },
     "execution_count": 177,
     "metadata": {},
     "output_type": "execute_result"
    }
   ],
   "source": [
    "data.head(3)"
   ]
  },
  {
   "cell_type": "markdown",
   "id": "609a69f6",
   "metadata": {
    "pycharm": {
     "name": "#%% md\n"
    }
   },
   "source": [
    "Label encoding"
   ]
  },
  {
   "cell_type": "code",
   "execution_count": 178,
   "id": "b81a8ee4",
   "metadata": {
    "pycharm": {
     "name": "#%%\n"
    }
   },
   "outputs": [
    {
     "data": {
      "text/plain": [
       "81"
      ]
     },
     "execution_count": 178,
     "metadata": {},
     "output_type": "execute_result"
    }
   ],
   "source": [
    "data['topics'].nunique()"
   ]
  },
  {
   "cell_type": "code",
   "execution_count": 179,
   "id": "432c852d",
   "metadata": {
    "pycharm": {
     "name": "#%%\n"
    }
   },
   "outputs": [
    {
     "data": {
      "text/plain": [
       "earn        3749\n",
       "acq         2182\n",
       "money-fx     555\n",
       "grain        488\n",
       "crude        470\n",
       "            ... \n",
       "wool           1\n",
       "nzdlr          1\n",
       "rand           1\n",
       "fishmeal       1\n",
       "naphtha        1\n",
       "Name: topics, Length: 81, dtype: int64"
      ]
     },
     "execution_count": 179,
     "metadata": {},
     "output_type": "execute_result"
    }
   ],
   "source": [
    "data['topics'].value_counts()"
   ]
  },
  {
   "cell_type": "code",
   "execution_count": 180,
   "id": "0c11ff74",
   "metadata": {
    "pycharm": {
     "name": "#%%\n"
    }
   },
   "outputs": [],
   "source": [
    "X = data['topic_body']\n",
    "y = data['topics']"
   ]
  },
  {
   "cell_type": "code",
   "execution_count": 181,
   "id": "e467eaa1",
   "metadata": {
    "pycharm": {
     "name": "#%%\n"
    }
   },
   "outputs": [],
   "source": [
    "encoder = LabelEncoder()\n",
    "y = encoder.fit_transform(y)"
   ]
  },
  {
   "cell_type": "code",
   "execution_count": 182,
   "id": "107ed9b7",
   "metadata": {
    "pycharm": {
     "name": "#%%\n"
    }
   },
   "outputs": [],
   "source": [
    "data['encoded'] = y"
   ]
  },
  {
   "cell_type": "code",
   "execution_count": 183,
   "id": "3f3648f7",
   "metadata": {
    "pycharm": {
     "name": "#%%\n"
    }
   },
   "outputs": [
    {
     "data": {
      "text/html": [
       "<div>\n",
       "<style scoped>\n",
       "    .dataframe tbody tr th:only-of-type {\n",
       "        vertical-align: middle;\n",
       "    }\n",
       "\n",
       "    .dataframe tbody tr th {\n",
       "        vertical-align: top;\n",
       "    }\n",
       "\n",
       "    .dataframe thead th {\n",
       "        text-align: right;\n",
       "    }\n",
       "</style>\n",
       "<table border=\"1\" class=\"dataframe\">\n",
       "  <thead>\n",
       "    <tr style=\"text-align: right;\">\n",
       "      <th></th>\n",
       "      <th>topic_body</th>\n",
       "      <th>topics</th>\n",
       "      <th>encoded</th>\n",
       "    </tr>\n",
       "  </thead>\n",
       "  <tbody>\n",
       "    <tr>\n",
       "      <th>0</th>\n",
       "      <td>shower continued throughout week inthe bahia c...</td>\n",
       "      <td>cocoa</td>\n",
       "      <td>6</td>\n",
       "    </tr>\n",
       "    <tr>\n",
       "      <th>1</th>\n",
       "      <td>u agriculture departmentreported farmer owned ...</td>\n",
       "      <td>grain</td>\n",
       "      <td>23</td>\n",
       "    </tr>\n",
       "    <tr>\n",
       "      <th>2</th>\n",
       "      <td>argentine grain board figure showcrop registra...</td>\n",
       "      <td>veg-oil</td>\n",
       "      <td>75</td>\n",
       "    </tr>\n",
       "  </tbody>\n",
       "</table>\n",
       "</div>"
      ],
      "text/plain": [
       "                                          topic_body   topics  encoded\n",
       "0  shower continued throughout week inthe bahia c...    cocoa        6\n",
       "1  u agriculture departmentreported farmer owned ...    grain       23\n",
       "2  argentine grain board figure showcrop registra...  veg-oil       75"
      ]
     },
     "execution_count": 183,
     "metadata": {},
     "output_type": "execute_result"
    }
   ],
   "source": [
    "data.head(3)"
   ]
  },
  {
   "cell_type": "markdown",
   "id": "e93eca8b",
   "metadata": {
    "pycharm": {
     "name": "#%% md\n"
    }
   },
   "source": [
    "TF-IDF vectorization"
   ]
  },
  {
   "cell_type": "code",
   "execution_count": 184,
   "id": "e649ccc9",
   "metadata": {
    "pycharm": {
     "name": "#%%\n"
    }
   },
   "outputs": [],
   "source": [
    "tf_idf = TfidfVectorizer()\n",
    "X = tf_idf.fit_transform(X)"
   ]
  },
  {
   "cell_type": "code",
   "execution_count": 185,
   "id": "feb16e8b",
   "metadata": {
    "pycharm": {
     "name": "#%%\n"
    }
   },
   "outputs": [
    {
     "data": {
      "text/plain": [
       "(10276, 71130)"
      ]
     },
     "execution_count": 185,
     "metadata": {},
     "output_type": "execute_result"
    }
   ],
   "source": [
    "X.shape"
   ]
  },
  {
   "cell_type": "code",
   "execution_count": 195,
   "id": "fd6a0903",
   "metadata": {
    "pycharm": {
     "name": "#%%\n"
    }
   },
   "outputs": [
    {
     "data": {
      "text/plain": [
       "(10276,)"
      ]
     },
     "execution_count": 195,
     "metadata": {},
     "output_type": "execute_result"
    }
   ],
   "source": [
    "y.shape"
   ]
  },
  {
   "cell_type": "markdown",
   "id": "46e18081",
   "metadata": {
    "pycharm": {
     "name": "#%% md\n"
    }
   },
   "source": [
    "### Applying Kernel PCA"
   ]
  },
  {
   "cell_type": "code",
   "execution_count": 196,
   "id": "2c490f78",
   "metadata": {
    "pycharm": {
     "name": "#%%\n"
    }
   },
   "outputs": [],
   "source": [
    "kpca = KernelPCA(n_components=2, kernel='rbf')\n",
    "final_transform = kpca.fit_transform(X)"
   ]
  },
  {
   "cell_type": "code",
   "execution_count": 197,
   "id": "45344631",
   "metadata": {
    "pycharm": {
     "name": "#%%\n"
    }
   },
   "outputs": [
    {
     "data": {
      "text/plain": [
       "(10276, 2)"
      ]
     },
     "execution_count": 197,
     "metadata": {},
     "output_type": "execute_result"
    }
   ],
   "source": [
    "final_transform.shape"
   ]
  },
  {
   "cell_type": "markdown",
   "id": "81cf9223",
   "metadata": {
    "pycharm": {
     "name": "#%% md\n"
    }
   },
   "source": [
    "### Applying Elbow Method"
   ]
  },
  {
   "cell_type": "code",
   "execution_count": 198,
   "id": "c8e0a9fe",
   "metadata": {
    "pycharm": {
     "name": "#%%\n"
    }
   },
   "outputs": [
    {
     "data": {
      "image/png": "[encoded data removed]",
      "text/plain": [
       "<Figure size 720x432 with 1 Axes>"
      ]
     },
     "metadata": {
      "needs_background": "light"
     },
     "output_type": "display_data"
    }
   ],
   "source": [
    "wcss = []\n",
    "for i in range(1, 11):\n",
    "    kmeans = KMeans(n_clusters=i, init='k-means++', random_state=40)\n",
    "    kmeans.fit(final_transform)\n",
    "    wcss.append(kmeans.inertia_)\n",
    "\n",
    "plt.figure(figsize=(10, 6))\n",
    "plt.plot(range(1, 11), wcss)\n",
    "plt.title('The Elbow Method')\n",
    "plt.xlabel('Number of clusters')\n",
    "plt.ylabel('WCSS')\n",
    "plt.show()"
   ]
  },
  {
   "cell_type": "markdown",
   "id": "4bbf11bf",
   "metadata": {
    "pycharm": {
     "name": "#%% md\n"
    }
   },
   "source": [
    "### K-Means Clustering"
   ]
  },
  {
   "cell_type": "code",
   "execution_count": 205,
   "id": "0c7cf29b",
   "metadata": {
    "pycharm": {
     "name": "#%%\n"
    }
   },
   "outputs": [],
   "source": [
    "kmeans = KMeans(n_clusters=3, init='k-means++', random_state=40)\n",
    "y_kmeans = kmeans.fit_predict(final_transform)"
   ]
  },
  {
   "cell_type": "code",
   "execution_count": 207,
   "id": "7b341ab2",
   "metadata": {
    "pycharm": {
     "name": "#%%\n"
    }
   },
   "outputs": [
    {
     "data": {
      "text/plain": [
       "0.8134067564936043"
      ]
     },
     "execution_count": 207,
     "metadata": {},
     "output_type": "execute_result"
    }
   ],
   "source": [
    "silhouette_score = metrics.silhouette_score(final_transform, y_kmeans, metric='euclidean')\n",
    "silhouette_score"
   ]
  },
  {
   "cell_type": "markdown",
   "id": "53793711",
   "metadata": {
    "pycharm": {
     "name": "#%% md\n"
    }
   },
   "source": [
    "### Visualization"
   ]
  },
  {
   "cell_type": "code",
   "execution_count": 208,
   "id": "9827c1a6",
   "metadata": {
    "pycharm": {
     "name": "#%%\n"
    }
   },
   "outputs": [
    {
     "data": {
      "image/png": "[encoded data removed]",
      "text/plain": [
       "<Figure size 1008x576 with 1 Axes>"
      ]
     },
     "metadata": {
      "needs_background": "light"
     },
     "output_type": "display_data"
    }
   ],
   "source": [
    "plt.figure(figsize=(14, 8))\n",
    "plt.scatter(final_transform[y_kmeans == 0, 0], final_transform[y_kmeans == 0, 1], s=100, c='red', label='Cluster 1')\n",
    "plt.scatter(final_transform[y_kmeans == 1, 0], final_transform[y_kmeans == 1, 1], s=100, c='blue', label='Cluster 2')\n",
    "plt.scatter(final_transform[y_kmeans == 2, 0], final_transform[y_kmeans == 2, 1], s=100, c='green', label='Cluster 3')\n",
    "plt.title('Clusters')\n",
    "plt.xlabel('kpca1')\n",
    "plt.ylabel('kpca2')\n",
    "plt.legend()\n",
    "plt.show()"
   ]
  },
  {
   "cell_type": "markdown",
   "id": "1139b5ec",
   "metadata": {
    "pycharm": {
     "name": "#%% md\n"
    }
   },
   "source": [
    "### Final Analysis"
   ]
  },
  {
   "cell_type": "markdown",
   "id": "100aeda0",
   "metadata": {
    "pycharm": {
     "name": "#%% md\n"
    }
   },
   "source": [
    "Topic body"
   ]
  },
  {
   "cell_type": "code",
   "execution_count": 212,
   "id": "45f9da74",
   "metadata": {
    "pycharm": {
     "name": "#%%\n"
    }
   },
   "outputs": [
    {
     "data": {
      "text/plain": [
       "(10276, 2)"
      ]
     },
     "execution_count": 212,
     "metadata": {},
     "output_type": "execute_result"
    }
   ],
   "source": [
    "final_transform.shape"
   ]
  },
  {
   "cell_type": "markdown",
   "id": "bfc2e45a",
   "metadata": {
    "pycharm": {
     "name": "#%% md\n"
    }
   },
   "source": [
    "Cluster"
   ]
  },
  {
   "cell_type": "code",
   "execution_count": 210,
   "id": "ebaf8049",
   "metadata": {
    "pycharm": {
     "name": "#%%\n"
    }
   },
   "outputs": [
    {
     "data": {
      "text/plain": [
       "(10276,)"
      ]
     },
     "execution_count": 210,
     "metadata": {},
     "output_type": "execute_result"
    }
   ],
   "source": [
    "y_kmeans.shape"
   ]
  },
  {
   "cell_type": "markdown",
   "id": "e889ab45",
   "metadata": {
    "pycharm": {
     "name": "#%% md\n"
    }
   },
   "source": [
    "Topics"
   ]
  },
  {
   "cell_type": "code",
   "execution_count": 214,
   "id": "32845aa1",
   "metadata": {
    "pycharm": {
     "name": "#%%\n"
    }
   },
   "outputs": [
    {
     "data": {
      "text/plain": [
       "(10276,)"
      ]
     },
     "execution_count": 214,
     "metadata": {},
     "output_type": "execute_result"
    }
   ],
   "source": [
    "y.shape"
   ]
  },
  {
   "cell_type": "code",
   "execution_count": 217,
   "id": "25562ce4",
   "metadata": {
    "pycharm": {
     "name": "#%%\n"
    }
   },
   "outputs": [],
   "source": [
    "df = pd.DataFrame({'cluster': y_kmeans, 'topics': y})"
   ]
  },
  {
   "cell_type": "code",
   "execution_count": 227,
   "id": "f5679894",
   "metadata": {
    "pycharm": {
     "name": "#%%\n"
    }
   },
   "outputs": [
    {
     "data": {
      "text/plain": [
       "0     2181\n",
       "16    1111\n",
       "43     555\n",
       "23     488\n",
       "14     470\n",
       "74     422\n",
       "31     252\n",
       "64     203\n",
       "70     145\n",
       "8      124\n",
       "Name: topics, dtype: int64"
      ]
     },
     "execution_count": 227,
     "metadata": {},
     "output_type": "execute_result"
    }
   ],
   "source": [
    "df[df['cluster'] == 0]['topics'].value_counts()[:10]"
   ]
  },
  {
   "cell_type": "code",
   "execution_count": 231,
   "id": "2d8605c9",
   "metadata": {
    "pycharm": {
     "name": "#%%\n"
    }
   },
   "outputs": [
    {
     "data": {
      "text/plain": [
       "16    2143\n",
       "0        1\n",
       "Name: topics, dtype: int64"
      ]
     },
     "execution_count": 231,
     "metadata": {},
     "output_type": "execute_result"
    }
   ],
   "source": [
    "df[df['cluster'] == 1]['topics'].value_counts()"
   ]
  },
  {
   "cell_type": "code",
   "execution_count": 230,
   "id": "47fcea6c",
   "metadata": {
    "pycharm": {
     "name": "#%%\n"
    }
   },
   "outputs": [
    {
     "data": {
      "text/plain": [
       "16    495\n",
       "Name: topics, dtype: int64"
      ]
     },
     "execution_count": 230,
     "metadata": {},
     "output_type": "execute_result"
    }
   ],
   "source": [
    "df[df['cluster'] == 2]['topics'].value_counts()"
   ]
  },
  {
   "cell_type": "code",
   "execution_count": null,
   "id": "7c4bebfe",
   "metadata": {
    "pycharm": {
     "name": "#%%\n"
    }
   },
   "outputs": [],
   "source": []
  }
 ],
 "metadata": {
  "kernelspec": {
   "display_name": "Python 3 (ipykernel)",
   "language": "python",
   "name": "python3"
  },
  "language_info": {
   "codemirror_mode": {
    "name": "ipython",
    "version": 3
   },
   "file_extension": ".py",
   "mimetype": "text/x-python",
   "name": "python",
   "nbconvert_exporter": "python",
   "pygments_lexer": "ipython3",
   "version": "3.9.12"
  }
 },
 "nbformat": 4,
 "nbformat_minor": 5
}